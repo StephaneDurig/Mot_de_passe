{
 "cells": [
  {
   "cell_type": "code",
   "execution_count": null,
   "metadata": {},
   "outputs": [],
   "source": [
    "mdp = input(\"quel est le mdp ?\")\n",
    "\n",
    "compteur=3\n",
    "\n",
    "while mdp!=\"JEDHA\" :\n",
    "    compteur-=1\n",
    "    if compteur !=0 :\n",
    "        print(f'mot de passe erroné. Il te reste {compteur} tentatives')\n",
    "        mdp = input(\"quel est le mdp ?\") \n",
    "    else :\n",
    "        print(\"tu as perdu\")\n",
    "        break\n",
    "print(\"Bravo c'est le bon mdp\")"
   ]
  }
 ],
 "metadata": {
  "language_info": {
   "name": "python"
  },
  "orig_nbformat": 4
 },
 "nbformat": 4,
 "nbformat_minor": 2
}
